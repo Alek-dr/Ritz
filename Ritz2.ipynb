{
 "cells": [
  {
   "cell_type": "code",
   "execution_count": 85,
   "metadata": {
    "collapsed": true
   },
   "outputs": [],
   "source": [
    "import matplotlib.pyplot as plt\n",
    "from numpy import linspace\n",
    "from sklearn.metrics import mean_squared_error\n",
    "from sympy import Symbol, Integral, Derivative, init_printing, symbols, solve, diff"
   ]
  },
  {
   "cell_type": "code",
   "execution_count": 86,
   "metadata": {
    "collapsed": true
   },
   "outputs": [],
   "source": [
    "init_printing()"
   ]
  },
  {
   "cell_type": "code",
   "execution_count": 87,
   "metadata": {
    "collapsed": true
   },
   "outputs": [],
   "source": [
    "J,k,x,u = symbols(\"J,k,x,u\")"
   ]
  },
  {
   "cell_type": "code",
   "execution_count": 88,
   "metadata": {
    "collapsed": true
   },
   "outputs": [],
   "source": [
    "def get_u(fi,n,const):\n",
    "    #Сумма координатных функция без fo\n",
    "    y = 0\n",
    "    for i in range(n):\n",
    "        y += const[i]*fi.subs(k,i+1)\n",
    "    return y"
   ]
  },
  {
   "cell_type": "code",
   "execution_count": 89,
   "metadata": {
    "collapsed": true
   },
   "outputs": [],
   "source": [
    "def ritz(a,b,n,f,fi,fi0):\n",
    "    u = Symbol(\"u\")\n",
    "    const = [Symbol(\"C\"+str(i)) for i in range(1,n+1)]\n",
    "    u_ = get_u(fi,n,const)\n",
    "    #Прибавить к полученной функции fi0\n",
    "    u_+=fi0\n",
    "    f = f.subs({u:u_})\n",
    "    J = Integral(f,(x,a,b))\n",
    "    F = J.doit()\n",
    "    #Частные производные F по Ci\n",
    "    derr = [diff(F,c) for c in const]\n",
    "    #Вычислить С\n",
    "    sol = solve(derr,const)\n",
    "    #Подставить С в u\n",
    "    u = u_.subs(sol)\n",
    "    return u"
   ]
  },
  {
   "cell_type": "code",
   "execution_count": 90,
   "metadata": {},
   "outputs": [
    {
     "data": {
      "image/png": "[encoded data removed]",
      "text/latex": [
       "$$u^{2} x^{2} + u \\left(2 x + 2\\right) + \\left(\\frac{d}{d x} u\\right)^{2}$$"
      ],
      "text/plain": [
       "                             2\n",
       " 2  2                 ⎛d    ⎞ \n",
       "u ⋅x  + u⋅(2⋅x + 2) + ⎜──(u)⎟ \n",
       "                      ⎝dx   ⎠ "
      ]
     },
     "execution_count": 90,
     "metadata": {},
     "output_type": "execute_result"
    }
   ],
   "source": [
    "#Подинтегральная функция\n",
    "f = Derivative(u,x)**2 + (x**2)*(u**2) + (2*x+2)*u\n",
    "f"
   ]
  },
  {
   "cell_type": "code",
   "execution_count": 91,
   "metadata": {},
   "outputs": [
    {
     "data": {
      "image/png": "[encoded data removed]",
      "text/latex": [
       "$$x^{k - 1} \\left(x - 1\\right) \\left(x + 1\\right)$$"
      ],
      "text/plain": [
       " k - 1                \n",
       "x     ⋅(x - 1)⋅(x + 1)"
      ]
     },
     "execution_count": 91,
     "metadata": {},
     "output_type": "execute_result"
    }
   ],
   "source": [
    "a = -1\n",
    "b = 1\n",
    "\n",
    "u_a = 0\n",
    "u_b = 2\n",
    "\n",
    "#Координатная функция\n",
    "fi = x**(k-1)*(x-a)*(x-b)\n",
    "fi"
   ]
  },
  {
   "cell_type": "code",
   "execution_count": 92,
   "metadata": {},
   "outputs": [
    {
     "data": {
      "image/png": "[encoded data removed]",
      "text/latex": [
       "$$1.0 x + 1.0$$"
      ],
      "text/plain": [
       "1.0⋅x + 1.0"
      ]
     },
     "execution_count": 92,
     "metadata": {},
     "output_type": "execute_result"
    }
   ],
   "source": [
    "fi0 = ((u_b - u_a)/(b-a))*(x-a)+u_a\n",
    "fi0"
   ]
  },
  {
   "cell_type": "code",
   "execution_count": 93,
   "metadata": {},
   "outputs": [],
   "source": [
    "u2 = ritz(a,b,2,f,fi,fi0)\n",
    "u3 = ritz(a,b,3,f,fi,fi0)"
   ]
  },
  {
   "cell_type": "code",
   "execution_count": 94,
   "metadata": {
    "collapsed": true
   },
   "outputs": [],
   "source": [
    "x_ = linspace(a,b,10)"
   ]
  },
  {
   "cell_type": "code",
   "execution_count": 95,
   "metadata": {
    "collapsed": true
   },
   "outputs": [],
   "source": [
    "y_2 = [u2.subs(x,v).evalf() for v in x_]\n",
    "y_3 = [u3.subs(x,v).evalf() for v in x_]"
   ]
  },
  {
   "cell_type": "code",
   "execution_count": 96,
   "metadata": {},
   "outputs": [
    {
     "data": {
      "image/png": "[encoded data removed]",
      "text/plain": [
       "<matplotlib.figure.Figure at 0x7fa5418bceb8>"
      ]
     },
     "metadata": {},
     "output_type": "display_data"
    }
   ],
   "source": [
    "plt.plot(x_,y_2, 'b')\n",
    "plt.plot(x_,y_3, 'r--')\n",
    "plt.grid(True)\n",
    "plt.show()"
   ]
  },
  {
   "cell_type": "code",
   "execution_count": 97,
   "metadata": {},
   "outputs": [
    {
     "name": "stdout",
     "output_type": "stream",
     "text": [
      "Cреднеквадратическое отклонение 6.593398772696908e-05\n"
     ]
    }
   ],
   "source": [
    "print(\"Cреднеквадратическое отклонение {}\".format(mean_squared_error(y_3,y_2)))"
   ]
  }
 ],
 "metadata": {
  "kernelspec": {
   "display_name": "Python 3",
   "language": "python",
   "name": "python3"
  },
  "language_info": {
   "codemirror_mode": {
    "name": "ipython",
    "version": 3
   },
   "file_extension": ".py",
   "mimetype": "text/x-python",
   "name": "python",
   "nbconvert_exporter": "python",
   "pygments_lexer": "ipython3",
   "version": "3.5.2"
  }
 },
 "nbformat": 4,
 "nbformat_minor": 2
}
